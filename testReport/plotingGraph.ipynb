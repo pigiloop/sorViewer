{
 "cells": [
  {
   "cell_type": "code",
   "execution_count": 2,
   "metadata": {
    "collapsed": true,
    "pycharm": {
     "is_executing": false,
     "name": "#%%\n"
    }
   },
   "outputs": [
    {
     "traceback": [
      "\u001b[1;31m---------------------------------------------------------------------------\u001b[0m",
      "\u001b[1;31mFileNotFoundError\u001b[0m                         Traceback (most recent call last)",
      "\u001b[1;32m<ipython-input-2-436ec868d983>\u001b[0m in \u001b[0;36m<module>\u001b[1;34m\u001b[0m\n\u001b[0;32m      5\u001b[0m \u001b[1;33m\u001b[0m\u001b[0m\n\u001b[0;32m      6\u001b[0m \u001b[0mdata\u001b[0m \u001b[1;33m=\u001b[0m \u001b[1;33m[\u001b[0m\u001b[1;33m]\u001b[0m\u001b[1;33m\u001b[0m\u001b[1;33m\u001b[0m\u001b[0m\n\u001b[1;32m----> 7\u001b[1;33m \u001b[1;32mwith\u001b[0m \u001b[0mopen\u001b[0m\u001b[1;33m(\u001b[0m\u001b[0mpath\u001b[0m\u001b[1;33m,\u001b[0m \u001b[1;34m\"r\"\u001b[0m\u001b[1;33m)\u001b[0m \u001b[1;32mas\u001b[0m \u001b[0mf\u001b[0m\u001b[1;33m:\u001b[0m\u001b[1;33m\u001b[0m\u001b[1;33m\u001b[0m\u001b[0m\n\u001b[0m\u001b[0;32m      8\u001b[0m     \u001b[0mdata\u001b[0m \u001b[1;33m=\u001b[0m \u001b[0mf\u001b[0m\u001b[1;33m.\u001b[0m\u001b[0mreadlines\u001b[0m\u001b[1;33m(\u001b[0m\u001b[1;33m)\u001b[0m\u001b[1;33m\u001b[0m\u001b[1;33m\u001b[0m\u001b[0m\n\u001b[0;32m      9\u001b[0m \u001b[1;33m\u001b[0m\u001b[0m\n",
      "\u001b[1;31mFileNotFoundError\u001b[0m: [Errno 2] No such file or directory: 'Гагарина 6а [2]-trace.dat'"
     ],
     "ename": "FileNotFoundError",
     "evalue": "[Errno 2] No such file or directory: 'Гагарина 6а [2]-trace.dat'",
     "output_type": "error"
    }
   ],
   "source": [
    "import matplotlib.pyplot as plt, pylab\n",
    "import os\n",
    "\n",
    "path = os.path.normpath(\"D:\\develop\\python_projects\\sorViewer\\Гагарина 6а [2]-trace.dat\")\n",
    "\n",
    "data = []\n",
    "with open(path, \"r\") as f:\n",
    "    data = f.readlines()\n",
    "\n",
    "result = []\n",
    "\n",
    "\n",
    "import re\n",
    "\n",
    "def convertPair(s):\n",
    "    x, y = re.split(r'\\t', s.strip('\\n'))\n",
    "    c = (float(x),float(y))\n",
    "    return c\n",
    "\n",
    "resultTpl = [convertPair(elem) for elem in data]\n",
    "xs = []\n",
    "ys = []\n",
    "\n",
    "for x,y in resultTpl:\n",
    "    xs.append(x)\n",
    "    ys.append(y)\n",
    "    \n",
    "plt.grid(True)\n",
    "\n",
    "plt.plot([1.442,1.442], [17,15], label='1', color='red')\n",
    "plt.plot([3.332,3.332], [17,15], label='2', color='red')\n",
    "plt.plot(xs,ys, linewidth=0.4, color = 'black')\n",
    "\n",
    "\n",
    "plt.title('Рефлектограмма OTDR')\n",
    "\n",
    "plt.axis([-0.05, max(xs), -0.05, max(ys)])\n",
    "plt.xlabel('Длина, км')\n",
    "plt.ylabel('дБ')\n",
    "\n",
    "\n",
    "#Дописать функцию, в зависимости от событий должны чёрточки ставится.\n",
    "plt.text(1.1,14,'1')\n",
    "plt.text(1.1,14,'1')\n",
    "plt.text(3.4,14,'2')\n",
    "plt.arrow(3.332,17,-0.15,0, color='red', linewidth=0.5,shape='full', head_width=0.4, head_length=0.1)\n",
    "plt.arrow(3.332,15,-0.15,0, color='red', linewidth=0.5,shape='full', head_width=0.4, head_length=0.1)\n",
    "\n",
    "\n",
    "\n",
    "fname, = os.path.splitext(os.path.basename(path))[:-1]\n",
    "pngname = os.path.join(os.path.dirname(path),fname + '.png')\n",
    "\n",
    "plt.savefig(pngname, dpi=300)\n",
    "\n",
    "plt.show()\n",
    "\n"
   ]
  }
 ],
 "metadata": {
  "kernelspec": {
   "display_name": "Python 3",
   "language": "python",
   "name": "python3"
  },
  "language_info": {
   "codemirror_mode": {
    "name": "ipython",
    "version": 2
   },
   "file_extension": ".py",
   "mimetype": "text/x-python",
   "name": "python",
   "nbconvert_exporter": "python",
   "pygments_lexer": "ipython2",
   "version": "2.7.6"
  },
  "pycharm": {
   "stem_cell": {
    "cell_type": "raw",
    "source": [],
    "metadata": {
     "collapsed": false
    }
   }
  }
 },
 "nbformat": 4,
 "nbformat_minor": 0
}
