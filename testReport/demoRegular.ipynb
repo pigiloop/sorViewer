{
 "cells": [
  {
   "cell_type": "code",
   "execution_count": 4,
   "outputs": [
    {
     "name": "stdout",
     "text": [
      "[('Гагарина 6а ', '1', ' АТС СОКР 3 1 планка ', '3', ' порт.SOR')]\n"
     ],
     "output_type": "stream"
    }
   ],
   "source": [
    "import re\n",
    "import time\n",
    "from datetime import datetime\n",
    "\n",
    "#s = 'Пионерская 14 [1] - АТС Светлый 14 [19].SOR'\n",
    "s = 'Гагарина 6а [1] - АТС СОКР 3 1 планка [3] порт.SOR'\n",
    "#regexp = r'(.*)\\[(.*)\\].*[!-](.*)\\[(.*)\\](.*)'\n",
    "regexp = r'(.*)\\[(.*)\\].*[!-](.*)\\[(.*)\\](.*)'\n",
    "\n",
    "print(re.findall(regexp,s, re.IGNORECASE))\n",
    "\n",
    "\n",
    "#Addr1, Port1, Addr2, Port2 = re.findall(regexp,s, re.IGNORECASE)[0][:-1]\n",
    "#print(f'Address 1: {Addr1.strip(\" \")}, port 1: {Port1}')\n",
    "#print(f'Address 2: {Addr2.strip(\" \")}, port 2: {Port2}'\n",
    "\n",
    "\n",
    "\n",
    "\n",
    "\n"
   ],
   "metadata": {
    "collapsed": false,
    "pycharm": {
     "name": "#%%\n",
     "is_executing": false
    }
   }
  },
  {
   "cell_type": "code",
   "execution_count": 23,
   "outputs": [
    {
     "name": "stdout",
     "text": [
      "05.09.2019 20:23:56\n"
     ],
     "output_type": "stream"
    }
   ],
   "source": [
    "import re\n",
    "import time\n",
    "\n",
    "s = '1310nm0001.SOR'\n",
    "\n",
    "regexp = r'(1310|1550)nm(.*)\\.SOR'\n",
    "\n",
    "\n",
    "#lenght, numvok = map(int, (re.findall(regexp,s, re.IGNORECASE)[0]))\n",
    "#print(lenght, numvok)\n",
    "\n",
    "\n",
    "stime = \"Thu Sep 05 20:23:56 2019 (1567704236 sec)\"\n",
    "regexptime = r'\\w+ \\((.*)\\ sec\\)'\n",
    "inttime = int(re.findall(regexptime, stime, re.IGNORECASE)[0])\n",
    "tt = time.strftime('%d.%m.%Y %H:%M:%S',time.localtime(inttime))\n",
    "print(tt)\n",
    "#07.10.2019 15:36:12"
   ],
   "metadata": {
    "collapsed": false,
    "pycharm": {
     "name": "#%%\n",
     "is_executing": false
    }
   }
  }
 ],
 "metadata": {
  "kernelspec": {
   "display_name": "Python 3",
   "language": "python",
   "name": "python3"
  },
  "language_info": {
   "codemirror_mode": {
    "name": "ipython",
    "version": 2
   },
   "file_extension": ".py",
   "mimetype": "text/x-python",
   "name": "python",
   "nbconvert_exporter": "python",
   "pygments_lexer": "ipython2",
   "version": "2.7.6"
  },
  "pycharm": {
   "stem_cell": {
    "cell_type": "raw",
    "source": [],
    "metadata": {
     "collapsed": false
    }
   }
  }
 },
 "nbformat": 4,
 "nbformat_minor": 0
}
