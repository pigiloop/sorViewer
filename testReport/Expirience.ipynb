{
 "cells": [
  {
   "cell_type": "code",
   "execution_count": 10,
   "metadata": {
    "collapsed": true,
    "pycharm": {
     "is_executing": false
    }
   },
   "outputs": [
    {
     "name": "stdout",
     "text": [
      "Пионерская 14 [1] - АТС Светлый 1 4 [19]-dump.json\n"
     ],
     "output_type": "stream"
    }
   ],
   "source": [
    "import json\n",
    "import os\n",
    "\n",
    "path = os.path.join(r\"D:\\Develop\\PythonProjects\\pyOTDR\\Пионерская 14 [1] - АТС Светлый 1 4 [19]-dump.json\")\n",
    "\n",
    "with open(path) as f:\n",
    "    data = json.load(f)\n",
    "    fname = f.name\n",
    "print(fname.split('\\\\')[-1])"
   ]
  },
  {
   "cell_type": "code",
   "execution_count": 11,
   "outputs": [
    {
     "name": "stdout",
     "text": [
      "Пионерская 14 1\nАТС Светлый 1 4 19\n"
     ],
     "output_type": "stream"
    }
   ],
   "source": [
    "import re\n",
    "\n",
    "\n",
    "regexp = r'(.*)\\[(.*)\\].*[!-](.*)\\[(.*)\\](.*)'\n",
    "addrStart, numStart, addrEnd, numEnd = re.findall(regexp, data['filename'], re.IGNORECASE)[0][:-1]\n",
    "\n",
    "addrStart = addrStart.strip(' ')\n",
    "addrEnd = addrEnd.strip(' ')\n",
    "\n",
    "print(addrStart,numStart)\n",
    "print(addrEnd, numEnd) \n"
   ],
   "metadata": {
    "collapsed": false,
    "pycharm": {
     "name": "#%% Парсим имя файла\n",
     "is_executing": false
    }
   }
  },
  {
   "cell_type": "code",
   "execution_count": 12,
   "outputs": [
    {
     "name": "stdout",
     "text": [
      "Начало: Пионерская 14\nКабель: тип кабеля\nДиапазон: 10.267 км\nДлина волны: 1550.0 nm\nПорог потерь: 0.100 дБ\nДата\nOTDR: AQ1000 S/N: C3UC07069F\nМодуль: MODEL_H00_0 S/N: \nЗаказчик: ПАО \"Ростелеком\nПодрядчик: АО \"ТКТ-Строй\nКомментарий\n"
     ],
     "output_type": "stream"
    }
   ],
   "source": [
    "if str(data[\"FxdParams\"][\"unit\"]) == \"km (kilometers)\":\n",
    "    unit = \"км\"\n",
    "else:\n",
    "    unit = \"ошибка\"\n",
    "\n",
    "print(f'Начало: {addrStart}')\n",
    "print(f'Кабель: тип кабеля')\n",
    "print(f'Диапазон: {data[\"FxdParams\"][\"range\"]:6.3f} {unit}')\n",
    "print(f'Длина волны: {data[\"FxdParams\"][\"wavelength\"]}')\n",
    "print(f'Порог потерь: {(data[\"FxdParams\"][\"loss thr\"]).replace(\"dB\",\"дБ\")}')\n",
    "print('Дата')\n",
    "print(f'OTDR: {data[\"SupParams\"][\"OTDR\"]} S/N: {data[\"SupParams\"][\"OTDR S/N\"]}')\n",
    "print(f'Модуль: {data[\"SupParams\"][\"module\"]} S/N: {data[\"SupParams\"][\"module S/N\"]}')\n",
    "print('Заказчик: ПАО \"Ростелеком')\n",
    "print('Подрядчик: АО \"ТКТ-Строй')\n",
    "print('Комментарий')\n",
    "\n"
   ],
   "metadata": {
    "collapsed": false,
    "pycharm": {
     "name": "#%%  Столбец 1\n",
     "is_executing": false
    }
   }
  },
  {
   "cell_type": "code",
   "execution_count": 13,
   "outputs": [
    {
     "name": "stdout",
     "text": [
      "Конец: АТС Светлый 1 4\nВолокно: 1\nИмпульс: 30 нс\nКоэф. преломления: 1.460000\nПорог отражения: -65.535 dB\nФайл: Пионерская 14 [1] - АТС Светлый 1 4 [19].SOR\n"
     ],
     "output_type": "stream"
    }
   ],
   "source": [
    "print(f'Конец: {addrEnd}')\n",
    "print(f'Волокно: {numStart}')\n",
    "print(f'Импульс: {(data[\"FxdParams\"][\"pulse width\"]).replace(\"ns\",\"нс\")}')\n",
    "print(f'Коэф. преломления: {data[\"FxdParams\"][\"index\"]}')\n",
    "print(f'Порог отражения: {data[\"FxdParams\"][\"refl thr\"]}')\n",
    "print(f'Файл: {data[\"filename\"]}')\n",
    "\n",
    "parseName = data['filename']\n"
   ],
   "metadata": {
    "collapsed": false,
    "pycharm": {
     "name": "#%% Столбец 2\n",
     "is_executing": false
    }
   }
  },
  {
   "cell_type": "code",
   "execution_count": 14,
   "outputs": [
    {
     "name": "stdout",
     "text": [
      "Результат измерений\n\nДлина волокна:\t3.334 км\nЗатухание:\t0.276 дБ/км\nПолные потери:\t0.921 дБ\n\n\nТаблица событий\n№\tТип\t\tДистанция\tПотери, дБ\tОтражение, дБ\tЗатухание, дБ/км\n1\tПотери\t\t1.442\t\t0.164\t\t---\t\t0.182\n2\tКонец\t\t3.334\t\t---\t\t-66.471\t\t0.265\n"
     ],
     "output_type": "stream"
    }
   ],
   "source": [
    "print('Результат измерений\\n')\n",
    "numEvents = data[\"KeyEvents\"][\"num events\"]\n",
    "distance = data[\"KeyEvents\"][f'event {numEvents}']['distance']\n",
    "totalLoss = data[\"KeyEvents\"][\"Summary\"]['total loss']\n",
    "#distance = data[\"KeyEvents\"][f'even {numEvents}']['distance']\n",
    "lenghtLoss = float(totalLoss)/float(distance)\n",
    "\n",
    "\n",
    "print(f'Длина волокна:\\t{distance} {unit}')\n",
    "print(f'Затухание:\\t{lenghtLoss:5.3f} дБ/{unit}')\n",
    "print(f'Полные потери:\\t{totalLoss} дБ')\n",
    "\n",
    "\n",
    "print(\"\\n\")\n",
    "\n",
    "\n",
    "print(f'Таблица событий')\n",
    "print(f'№\\tТип\\t\\tДистанция\\tПотери, дБ\\tОтражение, дБ\\tЗатухание, дБ/км')\n",
    "\n",
    "\n",
    "for numEvent in range(numEvents):\n",
    "    event = data[\"KeyEvents\"][f'event {numEvent+1}']\n",
    "    spliceLoss = \"---\" if float(event[\"splice loss\"]) == 0.00 else event[\"splice loss\"]\n",
    "    reflectLoss = \"---\"  if event[\"refl loss\"] == \"0.000\" else event[\"refl loss\"]\n",
    "        \n",
    "    if numEvent+1 == numEvents:\n",
    "        typeEvent = \"Конец\"\n",
    "    elif float(event[\"splice loss\"]) < 0:\n",
    "        typeEvent = \"Положит. дефект\"\n",
    "    else:\n",
    "        typeEvent = \"Потери\"\n",
    "            \n",
    "    print(f'{numEvent+1}\\t{typeEvent}\\t\\t{event[\"distance\"]}\\t\\t{spliceLoss}\\t\\t{reflectLoss}\\t\\t{event[\"slope\"]}')\n",
    "\n"
   ],
   "metadata": {
    "collapsed": false,
    "pycharm": {
     "name": "#%% События с результатом измерения\n",
     "is_executing": false
    }
   }
  }
 ],
 "metadata": {
  "kernelspec": {
   "display_name": "Python 3",
   "language": "python",
   "name": "python3"
  },
  "language_info": {
   "codemirror_mode": {
    "name": "ipython",
    "version": 2
   },
   "file_extension": ".py",
   "mimetype": "text/x-python",
   "name": "python",
   "nbconvert_exporter": "python",
   "pygments_lexer": "ipython2",
   "version": "2.7.6"
  },
  "pycharm": {
   "stem_cell": {
    "cell_type": "raw",
    "source": [],
    "metadata": {
     "collapsed": false
    }
   }
  }
 },
 "nbformat": 4,
 "nbformat_minor": 0
}